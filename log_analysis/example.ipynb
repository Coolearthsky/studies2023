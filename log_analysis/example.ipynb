{
 "cells": [
  {
   "cell_type": "markdown",
   "metadata": {
    "id": "6yyKd2IkaIUP"
   },
   "source": [
    "# Analysis Example\n",
    "\n",
    "To log data to the USB drive, put this in the Java code:\n",
    "\n",
    "```\n",
    "DataLogManager.start()\n",
    "```\n",
    "\n",
    "This logs all the NetworkTables traffic, e.g. LiveWindow or SmartDashboard.\n",
    "\n",
    "This notebookshows how to load the file so you can analyze it.\n",
    "\n",
    "It works while disconnected from the internet, so it will\n",
    "work at a competition: pull the USB drive from the robot, stick\n",
    "it in the laptop, and run this script (ideally a copy of it)."
   ]
  },
  {
   "cell_type": "markdown",
   "metadata": {
    "id": "xK_yol7GcKYo"
   },
   "source": [
    "## Setup\n",
    "\n",
    "Install the file-dialog thing if it's not already.  Import stuff.\n"
   ]
  },
  {
   "cell_type": "code",
   "execution_count": 1,
   "metadata": {
    "id": "yge5rmpj7LXc"
   },
   "outputs": [],
   "source": [
    "%%capture # suppress the output\n",
    "!pip install ipyfilechooser # fails if not online and not already installed\n",
    "import log2df\n",
    "import pandas as pd\n",
    "import matplotlib.pyplot as plt\n",
    "import re"
   ]
  },
  {
   "cell_type": "markdown",
   "metadata": {
    "id": "qoOiQIx9cyuR"
   },
   "source": [
    "## Load data\n",
    "\n",
    "This file dialog isn't great, but it works.  Find the USB stick, pick the file you want.  You have\n",
    "to run this part manually, it doesn't work if you say \"run all\".\n",
    "\n",
    "If you want to save this analysis for other people to look at (which would be great) then\n",
    "copy the log file somewhere near this ipynb file and check it in."
   ]
  },
  {
   "cell_type": "code",
   "execution_count": 8,
   "metadata": {
    "id": "-XtO-0MRvNvg"
   },
   "outputs": [
    {
     "data": {
      "application/vnd.jupyter.widget-view+json": {
       "model_id": "206279157c6f4578a8418fcdd1fa2a18",
       "version_major": 2,
       "version_minor": 0
      },
      "text/plain": [
       "FileChooser(path='C:\\Users\\joelt\\FRC\\TRUHER\\studies2023\\log_analysis', filename='', title='', show_hidden=Fals…"
      ]
     },
     "metadata": {},
     "output_type": "display_data"
    }
   ],
   "source": [
    "#!wget -q -O logfile https://github.com/Team100/logs/blob/main/FRC_20230129_232220.wpilog?raw=true\n",
    "from ipyfilechooser import FileChooser\n",
    "fc=FileChooser()\n",
    "display(fc)"
   ]
  },
  {
   "cell_type": "code",
   "execution_count": 9,
   "metadata": {},
   "outputs": [
    {
     "name": "stdout",
     "output_type": "stream",
     "text": [
      "C:\\Users\\joelt\\FRC\\TRUHER\\studies2023\\log_analysis\\FRC_20230205_004848.wpilog\n"
     ]
    }
   ],
   "source": [
    "print(fc.selected)"
   ]
  },
  {
   "cell_type": "markdown",
   "metadata": {
    "id": "gx7BWW3ecByF"
   },
   "source": [
    "# Columns\n",
    "\n",
    "Loads the data into a dataframe, and shows the columns available.\n",
    "\n",
    "The MsgPack format requires some annoying gymnastics to unpack here; I've left it as a step-by-step unpacking to make it clear, but you don't have to expose all these steps if you don't want to."
   ]
  },
  {
   "cell_type": "code",
   "execution_count": 10,
   "metadata": {
    "colab": {
     "base_uri": "https://localhost:8080/"
    },
    "id": "3cCVl0-eZqF9",
    "outputId": "22bf853b-4dac-4d88-9100-defe693f5867"
   },
   "outputs": [
    {
     "name": "stdout",
     "output_type": "stream",
     "text": [
      "Index(['NT:/LiveWindow/.status/LW Enabled', 'NT:/Vision/tags',\n",
      "       'NT:/FMSInfo/.type', 'NT:/FMSInfo/GameSpecificMessage',\n",
      "       'NT:/FMSInfo/EventName', 'NT:/FMSInfo/IsRedAlliance', 'NTConnection',\n",
      "       'NT:/example_table/timestamp', 'systemTime'],\n",
      "      dtype='object')\n",
      "timestamp\n",
      "782469                                                    NaN\n",
      "1155862     {'tags': [{'id': 5, 'pose_t': [[-0.68585474101...\n",
      "983246      {'tags': [{'id': 5, 'pose_t': [[-0.68585474101...\n",
      "983467      {'tags': [{'id': 5, 'pose_t': [[-0.68585474101...\n",
      "983655      {'tags': [{'id': 5, 'pose_t': [[-0.68585474101...\n",
      "                                  ...                        \n",
      "36933659    {'tags': [{'id': 5, 'pose_t': [[-0.67229938412...\n",
      "36953554    {'tags': [{'id': 5, 'pose_t': [[-0.67229938412...\n",
      "36973658    {'tags': [{'id': 5, 'pose_t': [[-0.67229938412...\n",
      "36993635    {'tags': [{'id': 5, 'pose_t': [[-0.67229938412...\n",
      "37013564    {'tags': [{'id': 5, 'pose_t': [[-0.67229938412...\n",
      "Name: NT:/Vision/tags, Length: 2133, dtype: object\n",
      "                                                   tags        et\n",
      "0                                                   NaN       NaN\n",
      "1     [{'id': 5, 'pose_t': [[-0.6858547410164351], [...  0.029844\n",
      "2     [{'id': 5, 'pose_t': [[-0.6858547410164351], [...  0.029844\n",
      "3     [{'id': 5, 'pose_t': [[-0.6858547410164351], [...  0.029844\n",
      "4     [{'id': 5, 'pose_t': [[-0.6858547410164351], [...  0.029844\n",
      "...                                                 ...       ...\n",
      "2128  [{'id': 5, 'pose_t': [[-0.6722993841247628], [...  0.033467\n",
      "2129  [{'id': 5, 'pose_t': [[-0.6722993841247628], [...  0.033467\n",
      "2130  [{'id': 5, 'pose_t': [[-0.6722993841247628], [...  0.033467\n",
      "2131  [{'id': 5, 'pose_t': [[-0.6722993841247628], [...  0.033467\n",
      "2132  [{'id': 5, 'pose_t': [[-0.6722993841247628], [...  0.033467\n",
      "\n",
      "[2133 rows x 2 columns]\n",
      "                                                   tags        et\n",
      "0                                                   NaN       NaN\n",
      "1     {'id': 5, 'pose_t': [[-0.6858547410164351], [-...  0.029844\n",
      "2     {'id': 5, 'pose_t': [[-0.6858547410164351], [-...  0.029844\n",
      "3     {'id': 5, 'pose_t': [[-0.6858547410164351], [-...  0.029844\n",
      "4     {'id': 5, 'pose_t': [[-0.6858547410164351], [-...  0.029844\n",
      "...                                                 ...       ...\n",
      "2128  {'id': 5, 'pose_t': [[-0.6722993841247628], [-...  0.033467\n",
      "2129  {'id': 5, 'pose_t': [[-0.6722993841247628], [-...  0.033467\n",
      "2130  {'id': 5, 'pose_t': [[-0.6722993841247628], [-...  0.033467\n",
      "2131  {'id': 5, 'pose_t': [[-0.6722993841247628], [-...  0.033467\n",
      "2132  {'id': 5, 'pose_t': [[-0.6722993841247628], [-...  0.033467\n",
      "\n",
      "[2133 rows x 2 columns]\n",
      "       id                                             pose_t  \\\n",
      "0     NaN                                                NaN   \n",
      "1     5.0  [[-0.6858547410164351], [-0.44863238637031255]...   \n",
      "2     5.0  [[-0.6858547410164351], [-0.44863238637031255]...   \n",
      "3     5.0  [[-0.6858547410164351], [-0.44863238637031255]...   \n",
      "4     5.0  [[-0.6858547410164351], [-0.44863238637031255]...   \n",
      "...   ...                                                ...   \n",
      "2128  5.0  [[-0.6722993841247628], [-0.44638248117649904]...   \n",
      "2129  5.0  [[-0.6722993841247628], [-0.44638248117649904]...   \n",
      "2130  5.0  [[-0.6722993841247628], [-0.44638248117649904]...   \n",
      "2131  5.0  [[-0.6722993841247628], [-0.44638248117649904]...   \n",
      "2132  5.0  [[-0.6722993841247628], [-0.44638248117649904]...   \n",
      "\n",
      "                                                 pose_R  \n",
      "0                                                   NaN  \n",
      "1     [[0.9964394076407311, -0.0034151480038859833, ...  \n",
      "2     [[0.9964394076407311, -0.0034151480038859833, ...  \n",
      "3     [[0.9964394076407311, -0.0034151480038859833, ...  \n",
      "4     [[0.9964394076407311, -0.0034151480038859833, ...  \n",
      "...                                                 ...  \n",
      "2128  [[0.9974511830116423, -0.0052111994864583455, ...  \n",
      "2129  [[0.9974511830116423, -0.0052111994864583455, ...  \n",
      "2130  [[0.9974511830116423, -0.0052111994864583455, ...  \n",
      "2131  [[0.9974511830116423, -0.0052111994864583455, ...  \n",
      "2132  [[0.9974511830116423, -0.0052111994864583455, ...  \n",
      "\n",
      "[2133 rows x 3 columns]\n",
      "                          0                       1                     2\n",
      "0                       NaN                     NaN                   NaN\n",
      "1     [-0.6858547410164351]  [-0.44863238637031255]  [2.3605636912112953]\n",
      "2     [-0.6858547410164351]  [-0.44863238637031255]  [2.3605636912112953]\n",
      "3     [-0.6858547410164351]  [-0.44863238637031255]  [2.3605636912112953]\n",
      "4     [-0.6858547410164351]  [-0.44863238637031255]  [2.3605636912112953]\n",
      "...                     ...                     ...                   ...\n",
      "2128  [-0.6722993841247628]  [-0.44638248117649904]   [2.360274601352678]\n",
      "2129  [-0.6722993841247628]  [-0.44638248117649904]   [2.360274601352678]\n",
      "2130  [-0.6722993841247628]  [-0.44638248117649904]   [2.360274601352678]\n",
      "2131  [-0.6722993841247628]  [-0.44638248117649904]   [2.360274601352678]\n",
      "2132  [-0.6722993841247628]  [-0.44638248117649904]   [2.360274601352678]\n",
      "\n",
      "[2133 rows x 3 columns]\n",
      "             0         1         2\n",
      "0          NaN       NaN       NaN\n",
      "1    -0.685855 -0.448632  2.360564\n",
      "2    -0.685855 -0.448632  2.360564\n",
      "3    -0.685855 -0.448632  2.360564\n",
      "4    -0.685855 -0.448632  2.360564\n",
      "...        ...       ...       ...\n",
      "2128 -0.672299 -0.446382  2.360275\n",
      "2129 -0.672299 -0.446382  2.360275\n",
      "2130 -0.672299 -0.446382  2.360275\n",
      "2131 -0.672299 -0.446382  2.360275\n",
      "2132 -0.672299 -0.446382  2.360275\n",
      "\n",
      "[2133 rows x 3 columns]\n"
     ]
    }
   ],
   "source": [
    "\n",
    "df = log2df.log2df(fc.selected)\n",
    "print(df.columns)\n",
    "\n",
    "tag_col = df['NT:/Vision/tags']\n",
    "print(tag_col) # the msgpack column\n",
    "normalized_tag_col = pd.json_normalize(tag_col)\n",
    "print(normalized_tag_col) # dict key to column, it's just the \"tags\" key\n",
    "exploded_normalized_tag_col =normalized_tag_col.explode('tags')\n",
    "print(exploded_normalized_tag_col) # multiple targets -> multiple rows\n",
    "obj_cols = pd.json_normalize(exploded_normalized_tag_col['tags'].tolist())\n",
    "print(obj_cols) # tag fields -> columns\n",
    "pose_t  = obj_cols['pose_t'].apply(pd.Series)\n",
    "print(pose_t) # pose with weird extra dimension\n",
    "df = pose_t.explode([0,1,2]) # remove the extra dimension\n",
    "print(df)"
   ]
  },
  {
   "cell_type": "markdown",
   "metadata": {
    "id": "O0XOO3VXcPCl"
   },
   "source": [
    "## Position\n",
    "\n",
    "Plots a couple of columns in the dataframe."
   ]
  },
  {
   "cell_type": "code",
   "execution_count": 11,
   "metadata": {
    "colab": {
     "base_uri": "https://localhost:8080/",
     "height": 497
    },
    "id": "5WQIxCzN_Rcy",
    "outputId": "c6b2d7e7-c092-4530-c281-19376645e999"
   },
   "outputs": [
    {
     "data": {
      "image/png": "[encoded data removed]",
      "text/plain": [
       "<Figure size 1200x800 with 1 Axes>"
      ]
     },
     "metadata": {},
     "output_type": "display_data"
    }
   ],
   "source": [
    "plt.figure(figsize=(12,8))\n",
    "plt.scatter(df[0], df[2])\n",
    "plt.xlabel(\"x meters\")\n",
    "plt.ylabel(\"z meters\")\n",
    "plt.show()\n"
   ]
  },
  {
   "cell_type": "code",
   "execution_count": null,
   "metadata": {},
   "outputs": [],
   "source": []
  }
 ],
 "metadata": {
  "colab": {
   "provenance": []
  },
  "kernelspec": {
   "display_name": "Python 3 (ipykernel)",
   "language": "python",
   "name": "python3"
  },
  "language_info": {
   "codemirror_mode": {
    "name": "ipython",
    "version": 3
   },
   "file_extension": ".py",
   "mimetype": "text/x-python",
   "name": "python",
   "nbconvert_exporter": "python",
   "pygments_lexer": "ipython3",
   "version": "3.11.4"
  }
 },
 "nbformat": 4,
 "nbformat_minor": 1
}
